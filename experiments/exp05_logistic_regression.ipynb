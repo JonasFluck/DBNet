{
 "cells": [
  {
   "cell_type": "code",
   "execution_count": 37,
   "id": "initial_id",
   "metadata": {
    "ExecuteTime": {
     "end_time": "2024-01-23T18:53:51.215308200Z",
     "start_time": "2024-01-23T18:53:12.749042400Z"
    },
    "collapsed": true
   },
   "outputs": [
    {
     "name": "stdout",
     "output_type": "stream",
     "text": [
      "Optimization terminated successfully.\n",
      "         Current function value: 0.685459\n",
      "         Iterations 4\n",
      "                           Logit Regression Results                           \n",
      "==============================================================================\n",
      "Dep. Variable:             isMeasured   No. Observations:                23727\n",
      "Model:                          Logit   Df Residuals:                    23725\n",
      "Method:                           MLE   Df Model:                            1\n",
      "Date:                Thu, 25 Jan 2024   Pseudo R-squ.:               1.084e-05\n",
      "Time:                        18:49:07   Log-Likelihood:                -16264.\n",
      "converged:                       True   LL-Null:                       -16264.\n",
      "Covariance Type:            nonrobust   LLR p-value:                    0.5526\n",
      "=================================================================================\n",
      "                    coef    std err          z      P>|z|      [0.025      0.975]\n",
      "---------------------------------------------------------------------------------\n",
      "const            -0.2354      0.026     -8.995      0.000      -0.287      -0.184\n",
      "all_stability    -0.0269      0.045     -0.594      0.553      -0.116       0.062\n",
      "=================================================================================\n"
     ]
    }
   ],
   "source": [
    "import sys\n",
    "sys.path.append('../src')\n",
    "import json\n",
    "import pandas as pd\n",
    "from dataframeFactory import get_data_frame\n",
    "import statsmodels.api as sm\n",
    "import numpy as np\n",
    "\n",
    "# Load the JSON data from a file\n",
    "with open('../data/raw_data/db.json') as f:\n",
    "    json_data = json.load(f)\n",
    "\n",
    "# run add_predictions_gauss_regr on the data to add column 'uncertainty'\n",
    "filtered_data = get_data_frame(json_data)\n",
    "\n",
    "\n",
    "# Initialize 'isMeasured' with a default value\n",
    "filtered_data['isMeasured'] = None  \n",
    "\n",
    "# Use boolean indexing to set values in 'isMeasured' column\n",
    "filtered_data.loc[(filtered_data['all_measurements'] == 0), 'isMeasured'] = 1\n",
    "filtered_data.loc[(filtered_data['all_measurements'] != 0), 'isMeasured'] = 0\n",
    "\n",
    "# Convert 'isMeasured' to numeric (if it's not already)\n",
    "filtered_data['isMeasured'] = pd.to_numeric(filtered_data['isMeasured'], errors='coerce')\n",
    "\n",
    "# Add a constant term for the logistic regression\n",
    "filtered_data['const'] = 1\n",
    "X = filtered_data[['const', 'all_stability']]\n",
    "y = filtered_data['isMeasured']\n",
    "\n",
    "# Logistic regression model\n",
    "logit_model = sm.Logit(y, X)\n",
    "\n",
    "# Fit the model\n",
    "result = logit_model.fit()\n",
    "\n",
    "# Display the summary\n",
    "print(result.summary())\n",
    "\n"
   ]
  },
  {
   "cell_type": "code",
   "execution_count": 29,
   "metadata": {},
   "outputs": [
    {
     "name": "stdout",
     "output_type": "stream",
     "text": [
      "23727\n",
      "23727\n",
      "23727\n"
     ]
    }
   ],
   "source": [
    "with open('../data/raw_data/db.json') as f:\n",
    "    json_data = json.load(f)\n",
    "\n",
    "print(len(json_data['features']))\n",
    "\n",
    "with open('../data/output_withStateId.json') as f:\n",
    "    json_data = json.load(f)\n",
    "\n",
    "print(len(json_data['features']))\n",
    "\n",
    "with open('../data/output_rbf_40_60.json') as f:\n",
    "    json_data = json.load(f)\n",
    "\n",
    "print(len(json_data['features']))"
   ]
  },
  {
   "cell_type": "code",
   "execution_count": 19,
   "id": "b56f4dc51184eecc",
   "metadata": {
    "ExecuteTime": {
     "end_time": "2024-01-23T18:53:51.314857Z",
     "start_time": "2024-01-23T18:53:51.215308200Z"
    },
    "collapsed": false
   },
   "outputs": [
    {
     "name": "stdout",
     "output_type": "stream",
     "text": [
      "Optimization terminated successfully.\n",
      "         Current function value: 0.033435\n",
      "         Iterations 10\n",
      "                           Logit Regression Results                           \n",
      "==============================================================================\n",
      "Dep. Variable:         High_Stability   No. Observations:                23727\n",
      "Model:                          Logit   Df Residuals:                    23725\n",
      "Method:                           MLE   Df Model:                            1\n",
      "Date:                Thu, 25 Jan 2024   Pseudo R-squ.:                 0.02888\n",
      "Time:                        18:32:44   Log-Likelihood:                -793.32\n",
      "converged:                       True   LL-Null:                       -816.92\n",
      "Covariance Type:            nonrobust   LLR p-value:                 6.434e-12\n",
      "==============================================================================\n",
      "                 coef    std err          z      P>|z|      [0.025      0.975]\n",
      "------------------------------------------------------------------------------\n",
      "const          6.2025      0.218     28.395      0.000       5.774       6.631\n",
      "Measured      -1.4225      0.238     -5.969      0.000      -1.890      -0.955\n",
      "==============================================================================\n"
     ]
    }
   ],
   "source": [
    "# Null hypothesis (H₀): There is no significant association between the presence of a measurement and stability greater than 0.5.\n",
    "# Alternative hypothesis (H₁): There is a significant association between the presence of a measurement and stability greater than 0.5.\n",
    "\n",
    "\n",
    "# Creating binary variables 'Measured' and 'High_Stability'.\n",
    "filtered_data['Measured'] = (filtered_data['all_measurements'] > 0).astype(int)  # 1 for measurement, 0 for no measurement\n",
    "\n",
    "filtered_data['High_Stability'] = (filtered_data['all_stability'] > 0.5).astype(int)  # 1 for high_stability > 0.5, 0 otherwise\n",
    "\n",
    "# Adding a constant term for logistic regression.\n",
    "filtered_data['const'] = 1\n",
    "\n",
    "# Setting up independent variables 'X' (constant and 'Measured') and dependent variable 'y' ('High_Stability').\n",
    "X = filtered_data[['const', 'Measured']]\n",
    "y = filtered_data['High_Stability']\n",
    "\n",
    "# Fitting logistic regression model using Statsmodels.\n",
    "logit_model = sm.Logit(y, X)\n",
    "result = logit_model.fit()\n",
    "\n",
    "# Printing summary of logistic regression results.\n",
    "print(result.summary())\n",
    "\n",
    "# Concluding that the presence of a measurement (\"Measured\") is significantly associated with higher likelihood of high stability (>0.5)."
   ]
  },
  {
   "cell_type": "code",
   "execution_count": 2,
   "id": "f1640b35919d52c9",
   "metadata": {
    "ExecuteTime": {
     "end_time": "2024-01-23T18:53:51.322864100Z",
     "start_time": "2024-01-23T18:53:51.314857Z"
    },
    "collapsed": false
   },
   "outputs": [],
   "source": []
  }
 ],
 "metadata": {
  "kernelspec": {
   "display_name": "Python 3",
   "language": "python",
   "name": "python3"
  },
  "language_info": {
   "codemirror_mode": {
    "name": "ipython",
    "version": 3
   },
   "file_extension": ".py",
   "mimetype": "text/x-python",
   "name": "python",
   "nbconvert_exporter": "python",
   "pygments_lexer": "ipython3",
   "version": "3.11.5"
  }
 },
 "nbformat": 4,
 "nbformat_minor": 5
}
