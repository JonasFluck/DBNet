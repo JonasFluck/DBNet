{
 "cells": [
  {
   "cell_type": "code",
   "execution_count": 1,
   "id": "initial_id",
   "metadata": {
    "collapsed": true,
    "ExecuteTime": {
     "end_time": "2024-01-23T18:53:51.215308200Z",
     "start_time": "2024-01-23T18:53:12.749042400Z"
    }
   },
   "outputs": [
    {
     "name": "stdout",
     "output_type": "stream",
     "text": [
      "Optimization terminated successfully.\n",
      "         Current function value: 0.639165\n",
      "         Iterations 5\n",
      "                           Logit Regression Results                           \n",
      "==============================================================================\n",
      "Dep. Variable:             isMeasured   No. Observations:                 6795\n",
      "Model:                          Logit   Df Residuals:                     6793\n",
      "Method:                           MLE   Df Model:                            1\n",
      "Date:                Tue, 23 Jan 2024   Pseudo R-squ.:                 0.02909\n",
      "Time:                        19:53:51   Log-Likelihood:                -4343.1\n",
      "converged:                       True   LL-Null:                       -4473.2\n",
      "Covariance Type:            nonrobust   LLR p-value:                 1.523e-58\n",
      "=================================================================================\n",
      "                    coef    std err          z      P>|z|      [0.025      0.975]\n",
      "---------------------------------------------------------------------------------\n",
      "const             2.6934      0.233     11.575      0.000       2.237       3.149\n",
      "all_stability    -3.5589      0.254    -14.032      0.000      -4.056      -3.062\n",
      "=================================================================================\n"
     ]
    }
   ],
   "source": [
    "import sys\n",
    "sys.path.append('../src')\n",
    "import json\n",
    "import pandas as pd\n",
    "from src.predictionHelper import add_predictions_gauss_regr\n",
    "from src.mapCreator import filter_data_by_geometry\n",
    "from src.mainController import MainController\n",
    "from src.MapTypes import MapTypes\n",
    "import statsmodels.api as sm\n",
    "\n",
    "# Load the JSON data from a file\n",
    "with open('../data/db.json') as f:\n",
    "    json_data = json.load(f)\n",
    "\n",
    "state_names = ['Baden-Württemberg', 'Bavaria', 'Berlin', 'Brandenburg', 'Bremen', 'Hamburg', 'North Rhine-Westphalia']\n",
    "\n",
    "# Create a dictionary that maps each state to a unique ID\n",
    "state_to_id = {state: i for i, state in enumerate(state_names)}\n",
    "\n",
    "\n",
    "chosen_states = [\"Baden-Württemberg\", \"Bavaria\"]\n",
    "special_ids = None\n",
    "\n",
    "# Get the IDs of the selected states\n",
    "chosen_states_ids = [state_to_id[state] for state in chosen_states]\n",
    "\n",
    "# Filter data using GeoPandas\n",
    "gdf = filter_data_by_geometry(json_data, chosen_states_ids, forexp=True)\n",
    "\n",
    "# seems like mainController.setData(gdf, MapTypes.Gauss, special_ids) does not work\n",
    "# run add_predictions_gauss_regr on the data to add column 'uncertainty'\n",
    "mainController = MainController()\n",
    "mainController.setData(gdf, MapTypes.Gauss, special_ids)\n",
    "filtered_data = add_predictions_gauss_regr(mainController.dto.gdf)\n",
    "\n",
    "# Initialize 'isMeasured' with a default value\n",
    "filtered_data['isMeasured'] = None  \n",
    "\n",
    "# Use boolean indexing to set values in 'isMeasured' column\n",
    "filtered_data.loc[filtered_data['all_measurements'].isnull() | (filtered_data['all_measurements'] == 0), 'isMeasured'] = 1\n",
    "filtered_data.loc[filtered_data['all_measurements'].notnull() & (filtered_data['all_measurements'] != 0), 'isMeasured'] = 0\n",
    "\n",
    "# Convert 'isMeasured' to numeric (if it's not already)\n",
    "filtered_data['isMeasured'] = pd.to_numeric(filtered_data['isMeasured'], errors='coerce')\n",
    "\n",
    "# Add a constant term for the logistic regression\n",
    "filtered_data['const'] = 1\n",
    "X = filtered_data[['const', 'all_stability']]\n",
    "y = filtered_data['isMeasured']\n",
    "\n",
    "# Logistic regression model\n",
    "logit_model = sm.Logit(y, X)\n",
    "\n",
    "# Fit the model\n",
    "result = logit_model.fit()\n",
    "\n",
    "# Display the summary\n",
    "print(result.summary())\n",
    "\n"
   ]
  },
  {
   "cell_type": "code",
   "execution_count": 2,
   "outputs": [
    {
     "name": "stdout",
     "output_type": "stream",
     "text": [
      "Optimization terminated successfully.\n",
      "         Current function value: 0.089381\n",
      "         Iterations 8\n",
      "                           Logit Regression Results                           \n",
      "==============================================================================\n",
      "Dep. Variable:         High_Stability   No. Observations:                 6795\n",
      "Model:                          Logit   Df Residuals:                     6793\n",
      "Method:                           MLE   Df Model:                            1\n",
      "Date:                Tue, 23 Jan 2024   Pseudo R-squ.:                 0.02560\n",
      "Time:                        19:53:51   Log-Likelihood:                -607.34\n",
      "converged:                       True   LL-Null:                       -623.30\n",
      "Covariance Type:            nonrobust   LLR p-value:                 1.618e-08\n",
      "==============================================================================\n",
      "                 coef    std err          z      P>|z|      [0.025      0.975]\n",
      "------------------------------------------------------------------------------\n",
      "const          3.4514      0.116     29.817      0.000       3.225       3.678\n",
      "Measured       1.0299      0.186      5.548      0.000       0.666       1.394\n",
      "==============================================================================\n"
     ]
    }
   ],
   "source": [
    "# Null hypothesis (H₀): There is no significant association between the presence of a measurement and stability greater than 0.5.\n",
    "# Alternative hypothesis (H₁): There is a significant association between the presence of a measurement and stability greater than 0.5.\n",
    "\n",
    "\n",
    "# Creating binary variables 'Measured' and 'High_Stability'.\n",
    "filtered_data['Measured'] = (filtered_data['all_measurements'] > 0).astype(int)  # 1 for measurement, 0 for no measurement\n",
    "filtered_data['High_Stability'] = (filtered_data['all_stability'] > 0.5).astype(int)  # 1 for high_stability > 0.5, 0 otherwise\n",
    "\n",
    "# Adding a constant term for logistic regression.\n",
    "filtered_data['const'] = 1\n",
    "\n",
    "# Setting up independent variables 'X' (constant and 'Measured') and dependent variable 'y' ('High_Stability').\n",
    "X = filtered_data[['const', 'Measured']]\n",
    "y = filtered_data['High_Stability']\n",
    "\n",
    "# Fitting logistic regression model using Statsmodels.\n",
    "logit_model = sm.Logit(y, X)\n",
    "result = logit_model.fit()\n",
    "\n",
    "# Printing summary of logistic regression results.\n",
    "print(result.summary())\n",
    "\n",
    "# Concluding that the presence of a measurement (\"Measured\") is significantly associated with higher likelihood of high stability (>0.5)."
   ],
   "metadata": {
    "collapsed": false,
    "ExecuteTime": {
     "end_time": "2024-01-23T18:53:51.314857Z",
     "start_time": "2024-01-23T18:53:51.215308200Z"
    }
   },
   "id": "b56f4dc51184eecc"
  },
  {
   "cell_type": "code",
   "execution_count": 2,
   "outputs": [],
   "source": [],
   "metadata": {
    "collapsed": false,
    "ExecuteTime": {
     "end_time": "2024-01-23T18:53:51.322864100Z",
     "start_time": "2024-01-23T18:53:51.314857Z"
    }
   },
   "id": "f1640b35919d52c9"
  }
 ],
 "metadata": {
  "kernelspec": {
   "display_name": "Python 3",
   "language": "python",
   "name": "python3"
  },
  "language_info": {
   "codemirror_mode": {
    "name": "ipython",
    "version": 2
   },
   "file_extension": ".py",
   "mimetype": "text/x-python",
   "name": "python",
   "nbconvert_exporter": "python",
   "pygments_lexer": "ipython2",
   "version": "2.7.6"
  }
 },
 "nbformat": 4,
 "nbformat_minor": 5
}
