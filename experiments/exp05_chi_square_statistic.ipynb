{
 "cells": [
  {
   "cell_type": "code",
   "execution_count": 9,
   "id": "initial_id",
   "metadata": {
    "collapsed": true,
    "ExecuteTime": {
     "end_time": "2024-01-27T15:22:06.195688200Z",
     "start_time": "2024-01-27T15:22:05.307504200Z"
    }
   },
   "outputs": [
    {
     "name": "stdout",
     "output_type": "stream",
     "text": [
      "Chi-Square Statistic: 15.85987915858013\n",
      "p-value: 6.820951708936643e-05\n"
     ]
    }
   ],
   "source": [
    "import sys\n",
    "sys.path.append('../src')\n",
    "import json\n",
    "from src.mainController import MainController\n",
    "import pandas as pd\n",
    "from scipy.stats import chi2_contingency\n",
    "\n",
    "# Load the JSON data from a file\n",
    "with open('../data/output_rbf_20_80.json') as f:\n",
    "    json_data = json.load(f)\n",
    "mainController = MainController(json_data)\n",
    "gdf = mainController.dto.gdf\n",
    "\n",
    "# Chi-Square Test of Independence between two categorical variables: 'isMeasured' (binary) and 'stability_category' (categorical with 5 levels)\n",
    "# Null Hypothesis (H0): There is no relationship between the variable 'isMeasured' and the stability category '80-100%'.\n",
    "# Alternative Hypothesis (H1): There is a relationship between the variable 'isMeasured' and the stability category '80-100%'.\n",
    "gdf['isMeasured'] = None  \n",
    "# Use boolean indexing to set values in 'isMeasured' column\n",
    "gdf.loc[(gdf['all_measurements'] != 0), 'isMeasured'] = 1\n",
    "gdf.loc[(gdf['all_measurements'] == 0), 'isMeasured'] = 0\n",
    "\n",
    "#test ob is measured mit 80-100% values korreliert\n",
    "# Convert 'isMeasured' to numeric (if it's not already)\n",
    "gdf['isMeasured'] = pd.to_numeric(gdf['isMeasured'], errors='coerce')\n",
    "\n",
    "# Kategorisierung der Stabilität in Prozentbereiche\n",
    "gdf['stability_category'] = pd.cut(gdf['all_stability'], bins=[0, 0.2, 0.4, 0.6, 0.8, 1.0], labels=['0-20%', '20-40%', '40-60%', '60-80%', '80-100%'])\n",
    "\n",
    "# Numerische Kodierung der kategorialen Variable\n",
    "gdf['stability_category_code'] = gdf['stability_category'].cat.codes\n",
    "\n",
    "# Kreuztabelle erstellen\n",
    "cross_table = pd.crosstab(gdf['isMeasured'], gdf['stability_category'] == '80-100%')\n",
    "\n",
    "# Chi-Quadrat-Test durchführen\n",
    "chi2, p_value, dof, expected = chi2_contingency(cross_table)\n",
    "\n",
    "print(\"Chi-Square Statistic:\", chi2)\n",
    "print(\"p-value:\", p_value)\n",
    "# if the p-value is less 0.05, then there is evidence to reject the null hypothesis in favor of the alternative hypothesis, indicating that there is a statistically significant relationship between the variables.\n",
    "# For the purposes of interpretation: a value of 15.86 can be interpreted as \"moderate to strong\""
   ]
  },
  {
   "cell_type": "code",
   "execution_count": null,
   "outputs": [],
   "source": [],
   "metadata": {
    "collapsed": false
   },
   "id": "312bff0b9a92d49b"
  }
 ],
 "metadata": {
  "kernelspec": {
   "display_name": "Python 3",
   "language": "python",
   "name": "python3"
  },
  "language_info": {
   "codemirror_mode": {
    "name": "ipython",
    "version": 3
   },
   "file_extension": ".py",
   "mimetype": "text/x-python",
   "name": "python",
   "nbconvert_exporter": "python",
   "pygments_lexer": "ipython3",
   "version": "3.11.5"
  }
 },
 "nbformat": 4,
 "nbformat_minor": 5
}
