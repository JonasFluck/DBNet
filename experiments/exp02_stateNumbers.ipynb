{
 "cells": [
  {
   "cell_type": "code",
   "execution_count": 27,
   "metadata": {},
   "outputs": [],
   "source": [
    "import sys\n",
    "sys.path.append('../src')\n",
    "import json\n",
    "\n",
    "with open('../data/db.json') as f:\n",
    "    json_data = json.load(f)\n",
    "\n",
    "with open('../data/2_hoch.geo.json') as f:\n",
    "    state_data = json.load(f)"
   ]
  },
  {
   "cell_type": "code",
   "execution_count": 28,
   "metadata": {},
   "outputs": [],
   "source": [
    "from shapely.geometry import shape, LineString\n",
    "index = 0\n",
    "for feature in json_data['features']:\n",
    "    feature['properties']['index'] = index\n",
    "    index += 1\n",
    "    for state_feature in state_data['features']:\n",
    "        if shape(state_feature['geometry']).intersects(LineString(feature['geometry']['coordinates'])):\n",
    "            feature['properties']['state_id'] = state_feature['id']\n",
    "            feature['properties']['state_name'] = state_feature['properties']['name']\n",
    "            break\n",
    "with open('output_withStateId.json', 'w') as f:\n",
    "        json.dump(json_data, f, indent=4)"
   ]
  }
 ],
 "metadata": {
  "kernelspec": {
   "display_name": "base",
   "language": "python",
   "name": "python3"
  },
  "language_info": {
   "codemirror_mode": {
    "name": "ipython",
    "version": 3
   },
   "file_extension": ".py",
   "mimetype": "text/x-python",
   "name": "python",
   "nbconvert_exporter": "python",
   "pygments_lexer": "ipython3",
   "version": "3.11.5"
  }
 },
 "nbformat": 4,
 "nbformat_minor": 2
}
