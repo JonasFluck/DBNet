{
 "cells": [
  {
   "cell_type": "code",
   "execution_count": null,
   "metadata": {},
   "outputs": [],
   "source": [
    "import sys\n",
    "sys.path.append('../src')\n",
    "import json\n",
    "\n",
    "with open('../data/db.json') as f:\n",
    "    json_data = json.load(f)"
   ]
  },
  {
   "cell_type": "code",
   "execution_count": null,
   "metadata": {},
   "outputs": [],
   "source": [
    "from dataframeFactory import get_data_frame\n",
    "\n",
    "data = get_data_frame(json_data)"
   ]
  },
  {
   "cell_type": "code",
   "execution_count": null,
   "metadata": {},
   "outputs": [],
   "source": [
    "from sklearn.model_selection import train_test_split, RandomizedSearchCV\n",
    "from sklearn.gaussian_process import GaussianProcessRegressor\n",
    "from sklearn.gaussian_process.kernels import RBF\n",
    "from sklearn.metrics import mean_squared_error\n",
    "from scipy.stats import uniform\n",
    "import numpy as np\n",
    "from sklearn.gaussian_process.kernels import Matern\n",
    "\n",
    "observations = data[data['all_measurements']!=0]\n",
    "missing = data[data['all_measurements']==0]\n",
    "\n",
    "X_train = observations[['lat', 'lon']]\n",
    "y_train = observations['all_stability']\n",
    "\n",
    "data['uncertainty'] = None\n",
    "\n",
    "gpr = GaussianProcessRegressor(alpha=0.021584, kernel=RBF(length_scale=10.699099)).fit(X_train, y_train)\n"
   ]
  }
 ],
 "metadata": {
  "language_info": {
   "name": "python"
  }
 },
 "nbformat": 4,
 "nbformat_minor": 2
}
